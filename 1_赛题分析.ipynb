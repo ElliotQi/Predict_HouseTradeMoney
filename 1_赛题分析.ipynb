{
 "cells": [
  {
   "cell_type": "markdown",
   "metadata": {},
   "source": [
    "# 任务1 赛题分析(2天)\n",
    "每一步都要认真完成，附上代码，最终效果截图\n",
    "\n",
    "## 认识数据([赛题说明](https://2019ai.futurelab.tv/contest_detail/3#contest_des))\n",
    "* 了解比赛的背景：\n",
    " 比赛背景赛选手根据给定的数据集，建立模型，预测房屋租金。\n",
    "数据集中的数据类别包括租赁房源、小区、二手房、配套、新房、土地、人口、客户、真实租金等。\n",
    "* 分类问题还是回归问题：\n",
    "回归问题\n",
    "* 熟悉比赛的评分函数：1-预测值与真实值方差之比\n",
    "  \n",
    "## 对比赛数据做EDA\n",
    "* 数据分析\n",
    "    * 缺失值分析\n",
    "    * 特征值分析\n",
    "    * 是否有单调特征列(单调的特征列很大可能是时间)\n",
    "    * 特征nunique分布\n",
    "    * 出现在测试集中的community，但是在训练集中数量较少\n",
    "    * 统计特征值出现频次大于100的特征\n",
    "    * Label分布\n",
    "    * 不同的特征值的样本的label的分布\n"
   ]
  },
  {
   "cell_type": "markdown",
   "metadata": {
    "id": "624CF51534074BF68805A8839EE29746",
    "mdEditEnable": false,
    "slideshow": {
     "slide_type": "slide"
    },
    "tags": []
   },
   "source": [
    "# 赛题分析\n",
    "比赛要求参赛选手根据给定的数据集，建立模型，预测房屋租金。  \n",
    "数据集中的数据类别包括租赁房源、小区、二手房、配套、新房、土地、人口、客户、真实租金等。  \n",
    "这是典型的回归预测。  \n",
    "  \n",
    "## 1. 预测指标\n",
    "#### 回归结果评价标准采用R-Square\n",
    "**R2（R-Square）的公式为**：\n",
    "残差平方和：\n",
    "$$\n",
    "SS_{res}=\\sum\\left(y_{i}-\\hat{y}_{i}\\right)^{2}\n",
    "$$\n",
    "总平均值:\n",
    "$$\n",
    "SS_{tot}=\\sum\\left(y_{i}-\\overline{y}_{i}\\right)^{2}\n",
    "$$\n",
    "\n",
    "其中$\\overline{y}$表示$y$的平均值\n",
    "得到$R^2$表达式为：\n",
    "$$\n",
    "R^{2}=1-\\frac{SS_{res}}{SS_{tot}}=1-\\frac{\\sum\\left(y_{i}-\\hat{y}_{i}\\right)^{2}}{\\sum\\left(y_{i}-\\overline{y}\\right)^{2}}\n",
    "$$\n",
    "$R^2$用于度量因变量的变异中可由自变量解释部分所占的比例，取值范围是 0~1，$R^2$越接近1,表明回归平方和占总平方和的比例越大,回归线与各观测点越接近，用x的变化来解释y值变化的部分就越多,回归的拟合程度就越好。所以$R^2$也称为拟合优度（Goodness of Fit）的统计量。\n",
    "\n",
    "$y_{i}$表示真实值，$\\hat{y}_{i}$表示预测值，$\\overline{y}_{i}$表示样本均值。得分越高拟合效果越好。\n",
    "  \n",
    "  \n",
    "## 2. 数据概况\n",
    "\n",
    "**1.租赁基本信息：**\n",
    "* ID——房屋编号　　　　　　　　　　　　　　　　　　\n",
    "* area——房屋面积 　　　\n",
    "* rentType——出租方式：整租/合租/未知　\n",
    "* houseType——房型 　　　　　　　　　\n",
    "* houseFloor——房间所在楼层：高/中/低　　　　　\n",
    "* totalFloor——房间所在的总楼层数　　　　　　　　\n",
    "* houseToward——房间朝向　　　　　　　　　　　\n",
    "* houseDecoration——房屋装修　\n",
    "\n",
    "* tradeTime——成交日期　　　　　　　　　　　　　　　\n",
    "* tradeMoney——成交租金　\n",
    "\n",
    "**2.小区信息：**\n",
    "* CommunityName——小区名称　　　　　　　　\n",
    "* city——城市　　　　　　　　　　　　　　　　　\n",
    "* region——地区　　　　　　　　　　　　　　　\n",
    "* plate——区域板块　　　　　　　　　　　　　　\n",
    "* buildYear——小区建筑年代　　　　　　　　　　\n",
    "* saleSecHouseNum——该板块当月二手房挂牌房源数　　　\n",
    "\n",
    "**3.配套设施：**\n",
    "* subwayStationNum——该板块地铁站数量　　　　　　　\n",
    "* busStationNum——该板块公交站数量　　　　　　　　　\n",
    "* interSchoolNum——该板块国际学校的数量　　　　　　\n",
    "* schoolNum——该板块公立学校的数量　　　　　　　　\n",
    "* privateSchoolNum——该板块私立学校数量　　　　　\n",
    "* hospitalNum——该板块综合医院数量　　　　　　　　　\n",
    "* DrugStoreNum——该板块药房数量　　　　　　　　\n",
    "* gymNum——该板块健身中心数量　　　　　　　　　　\n",
    "* bankNum——该板块银行数量　　　　　　　　　　　\n",
    "* shopNum——该板块商店数量　　　　　　　　　　　\n",
    "* parkNum——该板块公园数量　　　　　　　　　　　\n",
    "* mallNum——该板块购物中心数量　　　　　　　　　\n",
    "* superMarketNum——该板块超市数量　　　　　　　\n",
    "\n",
    "**4.其他信息：**\n",
    "* totalTradeMoney——该板块当月二手房成交总金额　　　\n",
    "* totalTradeArea——该板块二手房成交总面积　　　　　　\n",
    "* tradeMeanPrice——该板块二手房成交均价　　　　　　　\n",
    "* tradeSecNum——该板块当月二手房成交套数　　　　　\n",
    "\n",
    "* totalNewTradeMoney——该板块当月新房成交总金额　　　\n",
    "* totalNewTradeArea——该板块当月新房成交的总面积　　　\n",
    "* totalNewMeanPrice——该板块当月新房成交均价　　　　　\n",
    "* tradeNewNum——该板块当月新房成交套数　　　　　　　　\n",
    "* remainNewNum——该板块当月新房未成交套数　　　　　　\n",
    "* supplyNewNum——该板块当月新房供应套数　　　　　　　\n",
    "\n",
    "* supplyLandNum——该板块当月土地供应幅数　　　　　 \n",
    "* supplyLandArea——该板块当月土地供应面积　　　　　\n",
    "* tradeLandNum——该板块当月土地成交幅数　　　　　　\n",
    "* tradeLandArea——该板块当月土地成交面积　　　　　 \n",
    "* landTotalPrice——该板块当月土地成交总价　　　　　\n",
    "* landMeanPrice——该板块当月楼板价(元/m^{2})　　　\n",
    "\n",
    "* totalWorkers——当前板块现有的办公人数　　　　　　　\n",
    "* newWorkers——该板块当月流入人口数（现招聘的人员）　\n",
    "* residentPopulation——该板块常住人口　　　　　　　　\n",
    "\n",
    "* pv——该板块当月租客浏览网页次数　　　　　　　　　　　\n",
    "* uv——该板块当月租客浏览网页总人数　　　　　　　　　　\n",
    "* lookNum——线下看房次数　　　　　　　　　　　　　　　\n",
    "　　　　\n"
   ]
  },
  {
   "cell_type": "code",
   "execution_count": 26,
   "metadata": {},
   "outputs": [
    {
     "ename": "ModuleNotFoundError",
     "evalue": "No module named 'lightgbm'",
     "output_type": "error",
     "traceback": [
      "\u001b[0;31m---------------------------------------------------------------------------\u001b[0m",
      "\u001b[0;31mModuleNotFoundError\u001b[0m                       Traceback (most recent call last)",
      "\u001b[0;32m<ipython-input-26-3d542d216332>\u001b[0m in \u001b[0;36m<module>\u001b[0;34m()\u001b[0m\n\u001b[1;32m      9\u001b[0m \u001b[0;32mimport\u001b[0m \u001b[0mxgboost\u001b[0m \u001b[0;32mas\u001b[0m \u001b[0mxgb\u001b[0m\u001b[0;34m\u001b[0m\u001b[0;34m\u001b[0m\u001b[0m\n\u001b[1;32m     10\u001b[0m \u001b[0;31m# LightGBM\u001b[0m\u001b[0;34m\u001b[0m\u001b[0;34m\u001b[0m\u001b[0;34m\u001b[0m\u001b[0m\n\u001b[0;32m---> 11\u001b[0;31m \u001b[0;32mimport\u001b[0m \u001b[0mlightgbm\u001b[0m \u001b[0;32mas\u001b[0m \u001b[0mlgb\u001b[0m\u001b[0;34m\u001b[0m\u001b[0;34m\u001b[0m\u001b[0m\n\u001b[0m\u001b[1;32m     12\u001b[0m \u001b[0;34m\u001b[0m\u001b[0m\n\u001b[1;32m     13\u001b[0m \u001b[0;32mimport\u001b[0m \u001b[0mpandas\u001b[0m \u001b[0;32mas\u001b[0m \u001b[0mpd\u001b[0m\u001b[0;34m\u001b[0m\u001b[0;34m\u001b[0m\u001b[0m\n",
      "\u001b[0;31mModuleNotFoundError\u001b[0m: No module named 'lightgbm'"
     ]
    }
   ],
   "source": [
    "#coding:utf-8\n",
    "#导入warnings包，利用过滤器来实现忽略警告语句。\n",
    "import warnings\n",
    "warnings.filterwarnings('ignore')\n",
    "\n",
    "# GBDT\n",
    "from sklearn.ensemble import GradientBoostingRegressor\n",
    "# XGBoost\n",
    "import xgboost as xgb\n",
    "# LightGBM\n",
    "import lightgbm as lgb\n",
    "\n",
    "import pandas as pd\n",
    "import numpy as np\n",
    "import matplotlib.pyplot as plt\n",
    "import seaborn as sns"
   ]
  },
  {
   "cell_type": "code",
   "execution_count": 0,
   "metadata": {},
   "outputs": [],
   "source": [
    "#载入数据\n",
    "data_train = pd.read_csv('./train_data.csv')\n",
    "data_train['Type'] = 'Train'\n",
    "data_test = pd.read_csv('./test_a.csv')\n",
    "data_test['Type'] = 'Test'\n",
    "data_all = pd.concat([data_train, data_test], ignore_index=True)"
   ]
  },
  {
   "cell_type": "markdown",
   "metadata": {},
   "source": [
    "## 3. 总体情况一览"
   ]
  },
  {
   "cell_type": "code",
   "execution_count": 0,
   "metadata": {},
   "outputs": [],
   "source": [
    "# 总体情况\n",
    "print(data_train.info())\n",
    "print(data_train.describe())\n",
    "data_train.head()"
   ]
  },
  {
   "cell_type": "markdown",
   "metadata": {},
   "source": [
    "### 简要分析\n",
    "该份训练集包含 41440行×52列数据  \n",
    "目标变量是 真实房租价格- **tradeMoney** \n",
    "  \n",
    "大多数数据都是int或float型；有部分字段是object型，即文本型中文或英文的，如rentType字段，这些字段在之后需要做处理  "
   ]
  },
  {
   "cell_type": "markdown",
   "metadata": {},
   "source": [
    "## 4. 分类特征和连续型特征"
   ]
  },
  {
   "cell_type": "code",
   "execution_count": 0,
   "metadata": {},
   "outputs": [],
   "source": [
    "# 根据特征含义和特征一览，大致可以判断出数值型和类别型特征如下\n",
    "categorical_feas = ['rentType', 'houseType', 'houseFloor', 'region', 'plate', 'houseToward', 'houseDecoration',\n",
    "    'communityName','city','region','plate','buildYear']\n",
    "\n",
    "numerical_feas=['ID','area','totalFloor','saleSecHouseNum','subwayStationNum',\n",
    "    'busStationNum','interSchoolNum','schoolNum','privateSchoolNum','hospitalNum',\n",
    "    'drugStoreNum','gymNum','bankNum','shopNum','parkNum','mallNum','superMarketNum',\n",
    "    'totalTradeMoney','totalTradeArea','tradeMeanPrice','tradeSecNum','totalNewTradeMoney',\n",
    "    'totalNewTradeArea','tradeNewMeanPrice','tradeNewNum','remainNewNum','supplyNewNum',\n",
    "    'supplyLandNum','supplyLandArea','tradeLandNum','tradeLandArea','landTotalPrice',\n",
    "    'landMeanPrice','totalWorkers','newWorkers','residentPopulation','pv','uv','lookNum']"
   ]
  },
  {
   "cell_type": "markdown",
   "metadata": {},
   "source": [
    "## 5. 缺失值分析"
   ]
  },
  {
   "cell_type": "code",
   "execution_count": 0,
   "metadata": {},
   "outputs": [],
   "source": [
    "# 缺失值分析\n",
    "def missing_values(df):\n",
    "    alldata_na = pd.DataFrame(df.isnull().sum(), columns={'missingNum'})\n",
    "    alldata_na['existNum'] = len(df) - alldata_na['missingNum']\n",
    "    alldata_na['sum'] = len(df)\n",
    "    alldata_na['missingRatio'] = alldata_na['missingNum']/len(df)*100\n",
    "    alldata_na['dtype'] = df.dtypes\n",
    "    #ascending：默认True升序排列；False降序排列\n",
    "    alldata_na = alldata_na[alldata_na['missingNum']>0].reset_index().sort_values(by=['missingNum','index'],ascending=[False,True])\n",
    "    alldata_na.set_index('index',inplace=True)\n",
    "    return alldata_na\n",
    "\n",
    "missing_values(data_train)"
   ]
  },
  {
   "cell_type": "markdown",
   "metadata": {},
   "source": [
    "### 简要分析\n",
    "这里采用编写函数的方式来直接获取结果（这种方式会在之后反复用到，建议大家尽早养成函数式编写的习惯）；  \n",
    "其实在总体情况一览中，info()函数也能看出来。  \n",
    "  \n",
    "结果是，仅有pv、uv存在缺失值，后面再探究会发现缺失的都是属于同一个plate，可能是官方直接删除了该plate的pv、uv"
   ]
  },
  {
   "cell_type": "markdown",
   "metadata": {},
   "source": [
    "## 6. 单调特征列分析"
   ]
  },
  {
   "cell_type": "code",
   "execution_count": 0,
   "metadata": {},
   "outputs": [],
   "source": [
    "#是否有单调特征列(单调的特征列很大可能是时间)\n",
    "def incresing(vals):\n",
    "    cnt = 0\n",
    "    len_ = len(vals)\n",
    "    for i in range(len_-1):\n",
    "        if vals[i+1] > vals[i]:\n",
    "            cnt += 1\n",
    "    return cnt\n",
    "\n",
    "fea_cols = [col for col in data_train.columns]\n",
    "for col in fea_cols:\n",
    "    cnt = incresing(data_train[col].values)\n",
    "    if cnt / data_train.shape[0] >= 0.55:\n",
    "        print('单调特征：',col)\n",
    "        print('单调特征值个数：', cnt)\n",
    "        print('单调特征值比例：', cnt / data_train.shape[0])"
   ]
  },
  {
   "cell_type": "markdown",
   "metadata": {},
   "source": [
    "### 简要分析\n",
    "先编写判断单调的函数 *incresing*， 然后再应用到每列上；  \n",
    "单调特征是 tradeTime，为时间列。  \n",
    "  \n",
    "多说句额外的，时间列在特征工程的时候，不同的情况下能有很多的变种形式，比如按年月日分箱，或者按不同的维度在时间上聚合分组，等等  "
   ]
  },
  {
   "cell_type": "markdown",
   "metadata": {},
   "source": [
    "## 7. 特征nunique分布"
   ]
  },
  {
   "cell_type": "code",
   "execution_count": 0,
   "metadata": {},
   "outputs": [],
   "source": [
    "# 特征nunique分布\n",
    "for feature in categorical_feas:\n",
    "    print(feature + \"的特征分布如下：\")\n",
    "    print(data_train[feature].value_counts())\n",
    "    if feature != 'communityName': # communityName值太多，暂且不看图表\n",
    "        plt.hist(data_all[feature], bins=3)\n",
    "        plt.show()"
   ]
  },
  {
   "cell_type": "code",
   "execution_count": 0,
   "metadata": {},
   "outputs": [],
   "source": [
    "print(data_train['communityName'].value_counts())\n",
    "print(data_test['communityName'].value_counts())\n",
    "##特征分布"
   ]
  },
  {
   "cell_type": "markdown",
   "metadata": {},
   "source": [
    "### 简要分析\n",
    "用自带函数value_counts() 来得到每个分类变量的 种类 分布；  \n",
    "并且简单画出柱状图。  \n",
    "  \n",
    "rentType：4种，且绝大多数是无用的未知方式；  \n",
    "houseType：104种，绝大多数在3室及以下；  \n",
    "houseFloor：3种，分布较为均匀；  \n",
    "region：       15种；  \n",
    "plate：        66种；  \n",
    "houseToward：    10种；  \n",
    "houseDecoration： 4种，一大半是其他；  \n",
    "buildYear：     80种；  \n",
    "communityName：   4236种，且分布较为稀疏；  \n",
    "  \n",
    "此步骤是为之后数据处理和特征工程做准备，先理解每个字段的含义以及分布，之后需要根据实际含义对分类变量做不同的处理。  "
   ]
  },
  {
   "cell_type": "markdown",
   "metadata": {},
   "source": [
    "## 8. 统计特征值频次大于100的特征"
   ]
  },
  {
   "cell_type": "code",
   "execution_count": 0,
   "metadata": {},
   "outputs": [],
   "source": [
    "# 统计特征值出现频次大于100的特征\n",
    "for feature in categorical_feas:\n",
    "    df_value_counts = pd.DataFrame(data_train[feature].value_counts())\n",
    "    df_value_counts = df_value_counts.reset_index()\n",
    "    df_value_counts.columns = [feature, 'counts'] # change column names\n",
    "    print(df_value_counts[df_value_counts['counts'] >= 100])"
   ]
  },
  {
   "cell_type": "markdown",
   "metadata": {},
   "source": [
    "### 简要分析\n",
    "此步骤和特征nunique分布结合步骤结合起来看，有一些小于100的是可以直接统一归类为其他的"
   ]
  },
  {
   "cell_type": "markdown",
   "metadata": {},
   "source": [
    "## 9. Label分布"
   ]
  },
  {
   "cell_type": "code",
   "execution_count": 0,
   "metadata": {},
   "outputs": [],
   "source": [
    "# Labe 分布\n",
    "fig,axes = plt.subplots(2,3,figsize=(20,5))\n",
    "fig.set_size_inches(20,12)\n",
    "sns.distplot(data_train['tradeMoney'],ax=axes[0][0])\n",
    "sns.distplot(data_train[(data_train['tradeMoney']<=20000)]['tradeMoney'],ax=axes[0][1],color=\"g\")\n",
    "sns.distplot(data_train[(data_train['tradeMoney']>20000)&(data_train['tradeMoney']<=50000)]['tradeMoney'],ax=axes[0][2])\n",
    "sns.distplot(data_train[(data_train['tradeMoney']>50000)&(data_train['tradeMoney']<=100000)]['tradeMoney'],ax=axes[1][0])\n",
    "sns.distplot(data_train[(data_train['tradeMoney']>100000)]['tradeMoney'],ax=axes[1][1])"
   ]
  },
  {
   "cell_type": "code",
   "execution_count": 0,
   "metadata": {},
   "outputs": [],
   "source": [
    "print(\"money<=10000\",len(data_train[(data_train['tradeMoney']<=10000)]['tradeMoney']))\n",
    "print(\"10000<money<=20000\",len(data_train[(data_train['tradeMoney']>10000)&(data_train['tradeMoney']<=20000)]['tradeMoney']))\n",
    "print(\"20000<money<=50000\",len(data_train[(data_train['tradeMoney']>20000)&(data_train['tradeMoney']<=50000)]['tradeMoney']))\n",
    "print(\"50000<money<=100000\",len(data_train[(data_train['tradeMoney']>50000)&(data_train['tradeMoney']<=100000)]['tradeMoney']))\n",
    "print(\"100000<money\",len(data_train[(data_train['tradeMoney']>100000)]['tradeMoney']))\n",
    "#Label分布画图"
   ]
  },
  {
   "cell_type": "markdown",
   "metadata": {},
   "source": [
    "### 简要分析\n",
    "将目标变量tradeMoney分组，并查看每组间的分布；  \n",
    "可以看出绝大多数都是集中在10000元以内的，并且从图中可以看到该分布是右偏的。  \n",
    "  \n",
    "这里只是一种实现方式，完全可以将tradeMoney和其他字段一起结合起来查看，比如楼层高低，地区板块。  "
   ]
  },
  {
   "cell_type": "code",
   "execution_count": 0,
   "metadata": {},
   "outputs": [],
   "source": [
    "import panda"
   ]
  }
 ],
 "metadata": {
  "kernelspec": {
   "display_name": "Python 3",
   "language": "python",
   "name": "python3"
  },
  "language_info": {
   "codemirror_mode": {
    "name": "ipython",
    "version": 3
   },
   "file_extension": ".py",
   "mimetype": "text/x-python",
   "name": "python",
   "nbconvert_exporter": "python",
   "pygments_lexer": "ipython3",
   "version": "3.7.2"
  },
  "toc": {
   "base_numbering": 1,
   "nav_menu": {},
   "number_sections": false,
   "sideBar": true,
   "skip_h1_title": false,
   "title_cell": "Table of Contents",
   "title_sidebar": "Contents",
   "toc_cell": false,
   "toc_position": {
    "height": "calc(100% - 180px)",
    "left": "10px",
    "top": "150px",
    "width": "307.2px"
   },
   "toc_section_display": true,
   "toc_window_display": true
  }
 },
 "nbformat": 4,
 "nbformat_minor": 4
}